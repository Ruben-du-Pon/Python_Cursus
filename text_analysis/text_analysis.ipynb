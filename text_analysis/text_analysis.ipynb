{
 "cells": [
  {
   "cell_type": "markdown",
   "id": "3373ff8e-823a-4d7d-82c3-b51264197a1d",
   "metadata": {},
   "source": [
    "# Load the book"
   ]
  },
  {
   "cell_type": "code",
   "execution_count": 3,
   "id": "f36556ee-5103-4e0b-a879-5380ae5eb700",
   "metadata": {},
   "outputs": [],
   "source": [
    "with open(\"texts/miracle_in_the_andes.txt\", \"r\", encoding=\"utf-8\") as file:\n",
    "    book = file.read()"
   ]
  },
  {
   "cell_type": "code",
   "execution_count": 7,
   "id": "05d1da8c-a1de-43a5-8260-332752a07e04",
   "metadata": {},
   "outputs": [
    {
     "data": {
      "text/plain": [
       "str"
      ]
     },
     "execution_count": 7,
     "metadata": {},
     "output_type": "execute_result"
    }
   ],
   "source": [
    "type(book)"
   ]
  },
  {
   "cell_type": "markdown",
   "id": "b0e600e1-4adf-4643-9cfe-8286c14e05be",
   "metadata": {},
   "source": [
    "# How many chapters?"
   ]
  },
  {
   "cell_type": "markdown",
   "id": "08bf63c1-f319-4ef7-8ea5-31da4bfa4247",
   "metadata": {},
   "source": [
    "### With string methods"
   ]
  },
  {
   "cell_type": "code",
   "execution_count": 9,
   "id": "5f699f60-a028-4d3b-9850-e9c3d020ed57",
   "metadata": {},
   "outputs": [
    {
     "data": {
      "text/plain": [
       "11"
      ]
     },
     "execution_count": 9,
     "metadata": {},
     "output_type": "execute_result"
    }
   ],
   "source": [
    "book.count(\"Chapter\")"
   ]
  },
  {
   "cell_type": "markdown",
   "id": "ba4ee445-2158-49ea-9f0b-974d30fe80d6",
   "metadata": {},
   "source": [
    "### With regex"
   ]
  },
  {
   "cell_type": "code",
   "execution_count": 11,
   "id": "cac8b297-b3ac-492d-9bcc-6d8936447b90",
   "metadata": {},
   "outputs": [],
   "source": [
    "import re"
   ]
  },
  {
   "cell_type": "code",
   "execution_count": 16,
   "id": "2f968246-40ee-4716-aa81-4ad298b188d2",
   "metadata": {},
   "outputs": [
    {
     "name": "stdout",
     "output_type": "stream",
     "text": [
      "['Chapter 1', 'Chapter 2', 'Chapter 3', 'Chapter 4', 'Chapter 5', 'Chapter 6', 'Chapter 7', 'Chapter 8', 'Chapter 9', 'Chapter 10']\n"
     ]
    },
    {
     "data": {
      "text/plain": [
       "10"
      ]
     },
     "execution_count": 16,
     "metadata": {},
     "output_type": "execute_result"
    }
   ],
   "source": [
    "pattern = re.compile(\"Chapter [0-9]+\")\n",
    "findings = re.findall(pattern, book)\n",
    "print(findings)\n",
    "len(findings)"
   ]
  },
  {
   "cell_type": "markdown",
   "id": "88b4236f-0b86-4f11-92d6-32a398eb2fb2",
   "metadata": {},
   "source": [
    "# Which sentences contain the word \"love\"?"
   ]
  },
  {
   "cell_type": "code",
   "execution_count": 22,
   "id": "0327e7d3-1de6-4363-96b5-94f69689bf49",
   "metadata": {},
   "outputs": [
    {
     "data": {
      "text/plain": [
       "67"
      ]
     },
     "execution_count": 22,
     "metadata": {},
     "output_type": "execute_result"
    }
   ],
   "source": [
    "pattern = re.compile(\"[A-Z]{1}[^.]*[^a-zA-Z]*[L|l]ove[^a-zA-Z]+[^.]*.\")\n",
    "findings = re.findall(pattern, book)\n",
    "len(findings)"
   ]
  },
  {
   "cell_type": "markdown",
   "id": "a7a27b98-53ed-4d60-b6ac-cc4924b037d2",
   "metadata": {},
   "source": [
    "# What are the most used words?"
   ]
  },
  {
   "cell_type": "code",
   "execution_count": 25,
   "id": "c7b64d40-58a1-487b-8a5b-54d9e551acca",
   "metadata": {},
   "outputs": [],
   "source": [
    "pattern = re.compile(\"[a-z]+\")\n",
    "findings = re.findall(pattern, book.lower())\n",
    "d = {}\n",
    "for word in findings:\n",
    "    if word in d.keys():\n",
    "        d[word] = d[word] + 1\n",
    "    else:\n",
    "        d[word] = 1"
   ]
  },
  {
   "cell_type": "code",
   "execution_count": 30,
   "id": "92ec9a17-16e7-42d3-9274-6fa6133ca919",
   "metadata": {},
   "outputs": [
    {
     "data": {
      "text/plain": [
       "[(5346, 'the'),\n",
       " (2795, 'and'),\n",
       " (2729, 'i'),\n",
       " (2400, 'to'),\n",
       " (2060, 'of'),\n",
       " (1566, 'a'),\n",
       " (1430, 'was'),\n",
       " (1419, 'in'),\n",
       " (1226, 'we'),\n",
       " (1169, 'my')]"
      ]
     },
     "execution_count": 30,
     "metadata": {},
     "output_type": "execute_result"
    }
   ],
   "source": [
    "d_list =[(value, key) for (key, value) in d.items()]\n",
    "sorted(d_list, reverse = True)[:10]"
   ]
  },
  {
   "cell_type": "markdown",
   "id": "149acf05-f8fd-49f3-8705-76eb593d4745",
   "metadata": {},
   "source": [
    "# Extract the paragraphs where \"love\" is used"
   ]
  },
  {
   "cell_type": "code",
   "execution_count": 38,
   "id": "95c8a37f-5cf0-416d-8936-5874ebcfe28e",
   "metadata": {},
   "outputs": [
    {
     "data": {
      "text/plain": [
       "60"
      ]
     },
     "execution_count": 38,
     "metadata": {},
     "output_type": "execute_result"
    }
   ],
   "source": [
    "pattern = re.compile(\"[^\\n]*love[^\\n]*\")\n",
    "findings = re.findall(pattern, book)\n",
    "len(findings)"
   ]
  },
  {
   "cell_type": "markdown",
   "id": "bfcff2bc-3a1a-4e19-be67-2fe752e46118",
   "metadata": {},
   "source": [
    "# Extract the chapter titles"
   ]
  },
  {
   "cell_type": "code",
   "execution_count": 57,
   "id": "9e6a7ec3-28db-481b-a970-882da79ce03a",
   "metadata": {},
   "outputs": [
    {
     "data": {
      "text/plain": [
       "['Before',\n",
       " 'Everything Precious',\n",
       " 'A Promise',\n",
       " 'Breathe Once More',\n",
       " 'Abandoned',\n",
       " 'Tomb',\n",
       " 'East',\n",
       " 'The Opposite of Death',\n",
       " 'I See a Man',\n",
       " 'After']"
      ]
     },
     "execution_count": 57,
     "metadata": {},
     "output_type": "execute_result"
    }
   ],
   "source": [
    "pattern = re.compile(\"Chapter [0-9]+\\n\\n(.*)\\n\")\n",
    "findings = [match.group(1) for match in re.finditer(pattern, book)]\n",
    "findings"
   ]
  },
  {
   "cell_type": "markdown",
   "id": "3e785e2c-3fc0-4468-83ae-38e2b3d2dc0b",
   "metadata": {},
   "source": [
    "# Function that finds the number of occurrences of any word"
   ]
  },
  {
   "cell_type": "code",
   "execution_count": 58,
   "id": "e6514c0f-ab1d-4213-b5b6-7719fe253662",
   "metadata": {},
   "outputs": [],
   "source": [
    "def find_word(word, book=book):\n",
    "    pattern = re.compile(f\"[^a-z]+{word}[^a-z]+\")\n",
    "    findings = re.findall(pattern, book.lower())\n",
    "    if findings:\n",
    "        return len(findings)\n",
    "    else:\n",
    "        return f'The book does not contain the word \"{word}\".'"
   ]
  },
  {
   "cell_type": "markdown",
   "id": "ebd18139-7343-476a-bf8d-000f0c9bd748",
   "metadata": {},
   "source": [
    "# Call the function"
   ]
  },
  {
   "cell_type": "code",
   "execution_count": 59,
   "id": "e5c02400-f698-45b0-9e66-446158b14547",
   "metadata": {},
   "outputs": [
    {
     "data": {
      "text/plain": [
       "83"
      ]
     },
     "execution_count": 59,
     "metadata": {},
     "output_type": "execute_result"
    }
   ],
   "source": [
    "find_word(\"love\")"
   ]
  },
  {
   "cell_type": "code",
   "execution_count": 60,
   "id": "9266e7a3-7a51-4eb3-bb1f-6e7b863c172e",
   "metadata": {},
   "outputs": [
    {
     "data": {
      "text/plain": [
       "'The book does not contain the word \"hate\".'"
      ]
     },
     "execution_count": 60,
     "metadata": {},
     "output_type": "execute_result"
    }
   ],
   "source": [
    "find_word(\"hate\")"
   ]
  },
  {
   "cell_type": "markdown",
   "id": "4a8fb50f-9847-4988-8d1b-567712868c82",
   "metadata": {},
   "source": [
    "# The most used non-article words"
   ]
  },
  {
   "cell_type": "code",
   "execution_count": 65,
   "id": "c8e1b7c6-5862-45e3-9918-dee16ec0b93b",
   "metadata": {},
   "outputs": [
    {
     "data": {
      "text/plain": [
       "[(5346, 'the'),\n",
       " (2795, 'and'),\n",
       " (2729, 'i'),\n",
       " (2400, 'to'),\n",
       " (2060, 'of'),\n",
       " (1566, 'a'),\n",
       " (1430, 'was'),\n",
       " (1419, 'in'),\n",
       " (1226, 'we'),\n",
       " (1169, 'my')]"
      ]
     },
     "execution_count": 65,
     "metadata": {},
     "output_type": "execute_result"
    }
   ],
   "source": [
    "d_list = sorted(d_list, reverse = True)\n",
    "d_list[:10]"
   ]
  },
  {
   "cell_type": "code",
   "execution_count": 72,
   "id": "973459c0-d972-484e-93eb-bb64dc48a719",
   "metadata": {},
   "outputs": [
    {
     "name": "stderr",
     "output_type": "stream",
     "text": [
      "[nltk_data] Downloading package stopwords to\n",
      "[nltk_data]     C:\\Users\\RubenduPon\\AppData\\Roaming\\nltk_data...\n",
      "[nltk_data]   Package stopwords is already up-to-date!\n"
     ]
    }
   ],
   "source": [
    "import nltk\n",
    "nltk.download(\"stopwords\")\n",
    "english_stopwords = stopwords.words(\"english\")"
   ]
  },
  {
   "cell_type": "code",
   "execution_count": 77,
   "id": "7e10582b-4a64-4a47-8033-06fd2e4ac58f",
   "metadata": {},
   "outputs": [
    {
     "data": {
      "text/plain": [
       "[('would', 575),\n",
       " ('us', 519),\n",
       " ('said', 292),\n",
       " ('roberto', 284),\n",
       " ('could', 252),\n",
       " ('one', 249),\n",
       " ('snow', 227),\n",
       " ('mountain', 183),\n",
       " ('time', 182),\n",
       " ('like', 165)]"
      ]
     },
     "execution_count": 77,
     "metadata": {},
     "output_type": "execute_result"
    }
   ],
   "source": [
    "filtered_words = [(word, count) for count, word in d_list if word not in english_stopwords]\n",
    "filtered_words[:10]"
   ]
  },
  {
   "cell_type": "markdown",
   "id": "9ec579b9-3a99-4372-a936-2c827a1a9d1a",
   "metadata": {},
   "source": [
    "# Sentiment Analysis: What are the most positive and negative chapters?"
   ]
  },
  {
   "cell_type": "code",
   "execution_count": 79,
   "id": "49c06723-43e9-4bcc-acb7-bf6a312d821b",
   "metadata": {},
   "outputs": [],
   "source": [
    "from nltk.sentiment import SentimentIntensityAnalyzer"
   ]
  },
  {
   "cell_type": "code",
   "execution_count": 82,
   "id": "6b1186b4-f4af-43d1-aba1-5ad9287bb593",
   "metadata": {},
   "outputs": [
    {
     "name": "stderr",
     "output_type": "stream",
     "text": [
      "[nltk_data] Downloading package vader_lexicon to\n",
      "[nltk_data]     C:\\Users\\RubenduPon\\AppData\\Roaming\\nltk_data...\n",
      "[nltk_data]   Package vader_lexicon is already up-to-date!\n"
     ]
    }
   ],
   "source": [
    "nltk.download('vader_lexicon')\n",
    "analyzer = SentimentIntensityAnalyzer()"
   ]
  },
  {
   "cell_type": "code",
   "execution_count": 87,
   "id": "171a94c7-806c-49e7-9542-6cf870630c8c",
   "metadata": {},
   "outputs": [],
   "source": [
    "pattern = re.compile(\"Chapter [0-9]+\")\n",
    "chapters = re.split(pattern, book)"
   ]
  },
  {
   "cell_type": "code",
   "execution_count": null,
   "id": "ba3dfa18-7f4f-4c9a-8cb3-09480e4f4e32",
   "metadata": {},
   "outputs": [],
   "source": [
    "chapters = chapters[1:]"
   ]
  },
  {
   "cell_type": "code",
   "execution_count": 90,
   "id": "66e8c720-1b50-4076-9e6a-c3886b6174dc",
   "metadata": {},
   "outputs": [
    {
     "name": "stdout",
     "output_type": "stream",
     "text": [
      "{'neg': 0.061, 'neu': 0.779, 'pos': 0.16, 'compound': 1.0}\n",
      "{'neg': 0.12, 'neu': 0.726, 'pos': 0.154, 'compound': 0.9991}\n",
      "{'neg': 0.145, 'neu': 0.751, 'pos': 0.105, 'compound': -0.9999}\n",
      "{'neg': 0.141, 'neu': 0.721, 'pos': 0.138, 'compound': -0.9963}\n",
      "{'neg': 0.118, 'neu': 0.742, 'pos': 0.141, 'compound': 0.9997}\n",
      "{'neg': 0.124, 'neu': 0.761, 'pos': 0.115, 'compound': -0.9979}\n",
      "{'neg': 0.136, 'neu': 0.761, 'pos': 0.103, 'compound': -0.9999}\n",
      "{'neg': 0.12, 'neu': 0.786, 'pos': 0.094, 'compound': -0.9998}\n",
      "{'neg': 0.097, 'neu': 0.824, 'pos': 0.079, 'compound': -0.9996}\n",
      "{'neg': 0.086, 'neu': 0.733, 'pos': 0.181, 'compound': 1.0}\n"
     ]
    }
   ],
   "source": [
    "for chapter in chapters:\n",
    "    scores = analyzer.polarity_scores(chapter)\n",
    "    print(scores)"
   ]
  },
  {
   "cell_type": "code",
   "execution_count": null,
   "id": "f3b0df9b-caf3-4bf1-b7d4-653f367e206f",
   "metadata": {},
   "outputs": [],
   "source": []
  }
 ],
 "metadata": {
  "kernelspec": {
   "display_name": "Python 3 (ipykernel)",
   "language": "python",
   "name": "python3"
  },
  "language_info": {
   "codemirror_mode": {
    "name": "ipython",
    "version": 3
   },
   "file_extension": ".py",
   "mimetype": "text/x-python",
   "name": "python",
   "nbconvert_exporter": "python",
   "pygments_lexer": "ipython3",
   "version": "3.11.9"
  }
 },
 "nbformat": 4,
 "nbformat_minor": 5
}
