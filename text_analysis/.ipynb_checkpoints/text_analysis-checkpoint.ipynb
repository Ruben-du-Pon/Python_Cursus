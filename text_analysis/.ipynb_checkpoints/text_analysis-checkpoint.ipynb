{
 "cells": [
  {
   "cell_type": "markdown",
   "id": "3373ff8e-823a-4d7d-82c3-b51264197a1d",
   "metadata": {},
   "source": [
    "# Load the book"
   ]
  },
  {
   "cell_type": "code",
   "execution_count": 3,
   "id": "f36556ee-5103-4e0b-a879-5380ae5eb700",
   "metadata": {},
   "outputs": [],
   "source": [
    "with open(\"texts/miracle_in_the_andes.txt\", \"r\", encoding=\"utf-8\") as file:\n",
    "    book = file.read()"
   ]
  },
  {
   "cell_type": "code",
   "execution_count": 7,
   "id": "05d1da8c-a1de-43a5-8260-332752a07e04",
   "metadata": {},
   "outputs": [
    {
     "data": {
      "text/plain": [
       "str"
      ]
     },
     "execution_count": 7,
     "metadata": {},
     "output_type": "execute_result"
    }
   ],
   "source": [
    "type(book)"
   ]
  },
  {
   "cell_type": "markdown",
   "id": "b0e600e1-4adf-4643-9cfe-8286c14e05be",
   "metadata": {},
   "source": [
    "# How many chapters?"
   ]
  },
  {
   "cell_type": "markdown",
   "id": "08bf63c1-f319-4ef7-8ea5-31da4bfa4247",
   "metadata": {},
   "source": [
    "### With string methods"
   ]
  },
  {
   "cell_type": "code",
   "execution_count": 9,
   "id": "5f699f60-a028-4d3b-9850-e9c3d020ed57",
   "metadata": {},
   "outputs": [
    {
     "data": {
      "text/plain": [
       "11"
      ]
     },
     "execution_count": 9,
     "metadata": {},
     "output_type": "execute_result"
    }
   ],
   "source": [
    "book.count(\"Chapter\")"
   ]
  },
  {
   "cell_type": "markdown",
   "id": "ba4ee445-2158-49ea-9f0b-974d30fe80d6",
   "metadata": {},
   "source": [
    "### With regex"
   ]
  },
  {
   "cell_type": "code",
   "execution_count": 11,
   "id": "cac8b297-b3ac-492d-9bcc-6d8936447b90",
   "metadata": {},
   "outputs": [],
   "source": [
    "import re"
   ]
  },
  {
   "cell_type": "code",
   "execution_count": 16,
   "id": "2f968246-40ee-4716-aa81-4ad298b188d2",
   "metadata": {},
   "outputs": [
    {
     "name": "stdout",
     "output_type": "stream",
     "text": [
      "['Chapter 1', 'Chapter 2', 'Chapter 3', 'Chapter 4', 'Chapter 5', 'Chapter 6', 'Chapter 7', 'Chapter 8', 'Chapter 9', 'Chapter 10']\n"
     ]
    },
    {
     "data": {
      "text/plain": [
       "10"
      ]
     },
     "execution_count": 16,
     "metadata": {},
     "output_type": "execute_result"
    }
   ],
   "source": [
    "pattern = re.compile(\"Chapter [0-9]+\")\n",
    "findings = re.findall(pattern, book)\n",
    "print(findings)\n",
    "len(findings)"
   ]
  },
  {
   "cell_type": "markdown",
   "id": "88b4236f-0b86-4f11-92d6-32a398eb2fb2",
   "metadata": {},
   "source": [
    "# Which sentences contain the word \"love\"?"
   ]
  },
  {
   "cell_type": "code",
   "execution_count": 22,
   "id": "0327e7d3-1de6-4363-96b5-94f69689bf49",
   "metadata": {},
   "outputs": [
    {
     "data": {
      "text/plain": [
       "67"
      ]
     },
     "execution_count": 22,
     "metadata": {},
     "output_type": "execute_result"
    }
   ],
   "source": [
    "pattern = re.compile(\"[A-Z]{1}[^.]*[^a-zA-Z]*[L|l]ove[^a-zA-Z]+[^.]*.\")\n",
    "findings = re.findall(pattern, book)\n",
    "len(findings)"
   ]
  },
  {
   "cell_type": "markdown",
   "id": "a7a27b98-53ed-4d60-b6ac-cc4924b037d2",
   "metadata": {},
   "source": [
    "# What are the most used words?"
   ]
  },
  {
   "cell_type": "code",
   "execution_count": 25,
   "id": "c7b64d40-58a1-487b-8a5b-54d9e551acca",
   "metadata": {},
   "outputs": [],
   "source": [
    "pattern = re.compile(\"[a-z]+\")\n",
    "findings = re.findall(pattern, book.lower())\n",
    "d = {}\n",
    "for word in findings:\n",
    "    if word in d.keys():\n",
    "        d[word] = d[word] + 1\n",
    "    else:\n",
    "        d[word] = 1"
   ]
  },
  {
   "cell_type": "code",
   "execution_count": 30,
   "id": "92ec9a17-16e7-42d3-9274-6fa6133ca919",
   "metadata": {},
   "outputs": [
    {
     "data": {
      "text/plain": [
       "[(5346, 'the'),\n",
       " (2795, 'and'),\n",
       " (2729, 'i'),\n",
       " (2400, 'to'),\n",
       " (2060, 'of'),\n",
       " (1566, 'a'),\n",
       " (1430, 'was'),\n",
       " (1419, 'in'),\n",
       " (1226, 'we'),\n",
       " (1169, 'my')]"
      ]
     },
     "execution_count": 30,
     "metadata": {},
     "output_type": "execute_result"
    }
   ],
   "source": [
    "d_list =[(value, key) for (key, value) in d.items()]\n",
    "sorted(d_list, reverse = True)[:10]"
   ]
  },
  {
   "cell_type": "markdown",
   "id": "149acf05-f8fd-49f3-8705-76eb593d4745",
   "metadata": {},
   "source": [
    "# Extract the paragraphs where \"love\" is used"
   ]
  },
  {
   "cell_type": "code",
   "execution_count": 38,
   "id": "95c8a37f-5cf0-416d-8936-5874ebcfe28e",
   "metadata": {},
   "outputs": [
    {
     "data": {
      "text/plain": [
       "60"
      ]
     },
     "execution_count": 38,
     "metadata": {},
     "output_type": "execute_result"
    }
   ],
   "source": [
    "pattern = re.compile(\"[^\\n]*love[^\\n]*\")\n",
    "findings = re.findall(pattern, book)\n",
    "len(findings)"
   ]
  },
  {
   "cell_type": "markdown",
   "id": "bfcff2bc-3a1a-4e19-be67-2fe752e46118",
   "metadata": {},
   "source": [
    "# Extract the chapter titles"
   ]
  },
  {
   "cell_type": "code",
   "execution_count": 39,
   "id": "9e6a7ec3-28db-481b-a970-882da79ce03a",
   "metadata": {},
   "outputs": [
    {
     "data": {
      "text/plain": [
       "['Chapter 1\\n\\nBefore\\n',\n",
       " 'Chapter 2\\n\\nEverything Precious\\n',\n",
       " 'Chapter 3\\n\\nA Promise\\n',\n",
       " 'Chapter 4\\n\\nBreathe Once More\\n',\n",
       " 'Chapter 5\\n\\nAbandoned\\n',\n",
       " 'Chapter 6\\n\\nTomb\\n',\n",
       " 'Chapter 7\\n\\nEast\\n',\n",
       " 'Chapter 8\\n\\nThe Opposite of Death\\n',\n",
       " 'Chapter 9\\n\\nI See a Man\\n',\n",
       " 'Chapter 10\\n\\nAfter\\n']"
      ]
     },
     "execution_count": 39,
     "metadata": {},
     "output_type": "execute_result"
    }
   ],
   "source": [
    "pattern = re.compile(\"Chapter [0-9]+\\n\\n(.*)\\n\")\n",
    "findings = [match.group(1) for match in re.finditer(pattern, book)]\n",
    "findings"
   ]
  },
  {
   "cell_type": "markdown",
   "id": "3e785e2c-3fc0-4468-83ae-38e2b3d2dc0b",
   "metadata": {},
   "source": [
    "# Function that finds the number of occurrences of any word"
   ]
  },
  {
   "cell_type": "code",
   "execution_count": 41,
   "id": "e6514c0f-ab1d-4213-b5b6-7719fe253662",
   "metadata": {},
   "outputs": [],
   "source": [
    "def find_word(word, book=book):\n",
    "    pattern = re.compile(f\" {word} \")\n",
    "    findings = re.findall(pattern, book)\n",
    "    return len(findings)"
   ]
  },
  {
   "cell_type": "markdown",
   "id": "ebd18139-7343-476a-bf8d-000f0c9bd748",
   "metadata": {},
   "source": [
    "# Call the function"
   ]
  },
  {
   "cell_type": "code",
   "execution_count": null,
   "id": "e5c02400-f698-45b0-9e66-446158b14547",
   "metadata": {},
   "outputs": [],
   "source": []
  }
 ],
 "metadata": {
  "kernelspec": {
   "display_name": "Python 3 (ipykernel)",
   "language": "python",
   "name": "python3"
  },
  "language_info": {
   "codemirror_mode": {
    "name": "ipython",
    "version": 3
   },
   "file_extension": ".py",
   "mimetype": "text/x-python",
   "name": "python",
   "nbconvert_exporter": "python",
   "pygments_lexer": "ipython3",
   "version": "3.11.9"
  }
 },
 "nbformat": 4,
 "nbformat_minor": 5
}
